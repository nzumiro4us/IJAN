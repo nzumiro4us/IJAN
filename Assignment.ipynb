{
 "cells": [
  {
   "cell_type": "markdown",
   "id": "7cbb650d",
   "metadata": {},
   "source": [
    "# import required libraries"
   ]
  },
  {
   "cell_type": "code",
   "execution_count": 1,
   "id": "61e07e1b",
   "metadata": {},
   "outputs": [],
   "source": [
    "import numpy as np # linear algebra\n",
    "import pandas as pd # data processing, CSV file I/O (e.g. pd.read_csv)\n",
    "import matplotlib.pyplot as plt\n",
    "import seaborn as sns"
   ]
  },
  {
   "cell_type": "markdown",
   "id": "95a13dde",
   "metadata": {},
   "source": [
    "# Read the dataset"
   ]
  },
  {
   "cell_type": "code",
   "execution_count": 3,
   "id": "f4abcd47",
   "metadata": {},
   "outputs": [],
   "source": [
    "data = pd.read_csv(r'Documents\\boat_data.csv')"
   ]
  },
  {
   "cell_type": "code",
   "execution_count": 4,
   "id": "ab5df303",
   "metadata": {},
   "outputs": [
    {
     "data": {
      "text/html": [
       "<div>\n",
       "<style scoped>\n",
       "    .dataframe tbody tr th:only-of-type {\n",
       "        vertical-align: middle;\n",
       "    }\n",
       "\n",
       "    .dataframe tbody tr th {\n",
       "        vertical-align: top;\n",
       "    }\n",
       "\n",
       "    .dataframe thead th {\n",
       "        text-align: right;\n",
       "    }\n",
       "</style>\n",
       "<table border=\"1\" class=\"dataframe\">\n",
       "  <thead>\n",
       "    <tr style=\"text-align: right;\">\n",
       "      <th></th>\n",
       "      <th>Price</th>\n",
       "      <th>Boat Type</th>\n",
       "      <th>Manufacturer</th>\n",
       "      <th>Type</th>\n",
       "      <th>Year Built</th>\n",
       "      <th>Length</th>\n",
       "      <th>Width</th>\n",
       "      <th>Material</th>\n",
       "      <th>Location</th>\n",
       "      <th>Number of views last 7 days</th>\n",
       "    </tr>\n",
       "  </thead>\n",
       "  <tbody>\n",
       "    <tr>\n",
       "      <th>0</th>\n",
       "      <td>CHF 3337</td>\n",
       "      <td>Motor Yacht</td>\n",
       "      <td>Rigiflex power boats</td>\n",
       "      <td>new boat from stock</td>\n",
       "      <td>2017</td>\n",
       "      <td>4.00</td>\n",
       "      <td>1.90</td>\n",
       "      <td>NaN</td>\n",
       "      <td>Switzerland Â» Lake Geneva Â» VÃ©senaz</td>\n",
       "      <td>226</td>\n",
       "    </tr>\n",
       "    <tr>\n",
       "      <th>1</th>\n",
       "      <td>EUR 3490</td>\n",
       "      <td>Center console boat</td>\n",
       "      <td>Terhi power boats</td>\n",
       "      <td>new boat from stock</td>\n",
       "      <td>2020</td>\n",
       "      <td>4.00</td>\n",
       "      <td>1.50</td>\n",
       "      <td>Thermoplastic</td>\n",
       "      <td>Germany Â» BÃ¶nningstedt</td>\n",
       "      <td>75</td>\n",
       "    </tr>\n",
       "    <tr>\n",
       "      <th>2</th>\n",
       "      <td>CHF 3770</td>\n",
       "      <td>Sport Boat</td>\n",
       "      <td>Marine power boats</td>\n",
       "      <td>new boat from stock</td>\n",
       "      <td>0</td>\n",
       "      <td>3.69</td>\n",
       "      <td>1.42</td>\n",
       "      <td>Aluminium</td>\n",
       "      <td>Switzerland Â» Lake of Zurich Â» StÃ¤fa ZH</td>\n",
       "      <td>124</td>\n",
       "    </tr>\n",
       "  </tbody>\n",
       "</table>\n",
       "</div>"
      ],
      "text/plain": [
       "      Price            Boat Type          Manufacturer                 Type  \\\n",
       "0  CHF 3337          Motor Yacht  Rigiflex power boats  new boat from stock   \n",
       "1  EUR 3490  Center console boat     Terhi power boats  new boat from stock   \n",
       "2  CHF 3770           Sport Boat    Marine power boats  new boat from stock   \n",
       "\n",
       "   Year Built  Length  Width       Material  \\\n",
       "0        2017    4.00   1.90            NaN   \n",
       "1        2020    4.00   1.50  Thermoplastic   \n",
       "2           0    3.69   1.42      Aluminium   \n",
       "\n",
       "                                     Location  Number of views last 7 days  \n",
       "0      Switzerland Â» Lake Geneva Â» VÃ©senaz                          226  \n",
       "1                    Germany Â» BÃ¶nningstedt                           75  \n",
       "2  Switzerland Â» Lake of Zurich Â» StÃ¤fa ZH                          124  "
      ]
     },
     "execution_count": 4,
     "metadata": {},
     "output_type": "execute_result"
    }
   ],
   "source": [
    "data.head(3)"
   ]
  },
  {
   "cell_type": "markdown",
   "id": "611d9d2c",
   "metadata": {},
   "source": [
    "# Exploratory Data Analysis"
   ]
  },
  {
   "cell_type": "code",
   "execution_count": 7,
   "id": "c5061dfc",
   "metadata": {},
   "outputs": [
    {
     "data": {
      "text/plain": [
       "(9888, 10)"
      ]
     },
     "execution_count": 7,
     "metadata": {},
     "output_type": "execute_result"
    }
   ],
   "source": [
    "# view the shape\n",
    "data.shape"
   ]
  },
  {
   "cell_type": "code",
   "execution_count": 8,
   "id": "35defbc2",
   "metadata": {},
   "outputs": [
    {
     "name": "stdout",
     "output_type": "stream",
     "text": [
      "<class 'pandas.core.frame.DataFrame'>\n",
      "RangeIndex: 9888 entries, 0 to 9887\n",
      "Data columns (total 10 columns):\n",
      " #   Column                       Non-Null Count  Dtype  \n",
      "---  ------                       --------------  -----  \n",
      " 0   Price                        9888 non-null   object \n",
      " 1   Boat Type                    9888 non-null   object \n",
      " 2   Manufacturer                 8550 non-null   object \n",
      " 3   Type                         9882 non-null   object \n",
      " 4   Year Built                   9888 non-null   int64  \n",
      " 5   Length                       9879 non-null   float64\n",
      " 6   Width                        9832 non-null   float64\n",
      " 7   Material                     8139 non-null   object \n",
      " 8   Location                     9852 non-null   object \n",
      " 9   Number of views last 7 days  9888 non-null   int64  \n",
      "dtypes: float64(2), int64(2), object(6)\n",
      "memory usage: 772.6+ KB\n"
     ]
    }
   ],
   "source": [
    "# view the info of the dataset\n",
    "data.info()"
   ]
  },
  {
   "cell_type": "code",
   "execution_count": 9,
   "id": "2f4109de",
   "metadata": {},
   "outputs": [
    {
     "data": {
      "text/html": [
       "<div>\n",
       "<style scoped>\n",
       "    .dataframe tbody tr th:only-of-type {\n",
       "        vertical-align: middle;\n",
       "    }\n",
       "\n",
       "    .dataframe tbody tr th {\n",
       "        vertical-align: top;\n",
       "    }\n",
       "\n",
       "    .dataframe thead th {\n",
       "        text-align: right;\n",
       "    }\n",
       "</style>\n",
       "<table border=\"1\" class=\"dataframe\">\n",
       "  <thead>\n",
       "    <tr style=\"text-align: right;\">\n",
       "      <th></th>\n",
       "      <th>Year Built</th>\n",
       "      <th>Length</th>\n",
       "      <th>Width</th>\n",
       "      <th>Number of views last 7 days</th>\n",
       "    </tr>\n",
       "  </thead>\n",
       "  <tbody>\n",
       "    <tr>\n",
       "      <th>count</th>\n",
       "      <td>9888.000000</td>\n",
       "      <td>9879.000000</td>\n",
       "      <td>9832.000000</td>\n",
       "      <td>9888.000000</td>\n",
       "    </tr>\n",
       "    <tr>\n",
       "      <th>mean</th>\n",
       "      <td>1893.192860</td>\n",
       "      <td>11.570017</td>\n",
       "      <td>3.520124</td>\n",
       "      <td>149.160801</td>\n",
       "    </tr>\n",
       "    <tr>\n",
       "      <th>std</th>\n",
       "      <td>460.201582</td>\n",
       "      <td>6.002820</td>\n",
       "      <td>1.220534</td>\n",
       "      <td>151.819752</td>\n",
       "    </tr>\n",
       "    <tr>\n",
       "      <th>min</th>\n",
       "      <td>0.000000</td>\n",
       "      <td>1.040000</td>\n",
       "      <td>0.010000</td>\n",
       "      <td>13.000000</td>\n",
       "    </tr>\n",
       "    <tr>\n",
       "      <th>25%</th>\n",
       "      <td>1996.000000</td>\n",
       "      <td>7.470000</td>\n",
       "      <td>2.540000</td>\n",
       "      <td>70.000000</td>\n",
       "    </tr>\n",
       "    <tr>\n",
       "      <th>50%</th>\n",
       "      <td>2007.000000</td>\n",
       "      <td>10.280000</td>\n",
       "      <td>3.330000</td>\n",
       "      <td>108.000000</td>\n",
       "    </tr>\n",
       "    <tr>\n",
       "      <th>75%</th>\n",
       "      <td>2017.000000</td>\n",
       "      <td>13.930000</td>\n",
       "      <td>4.250000</td>\n",
       "      <td>172.000000</td>\n",
       "    </tr>\n",
       "    <tr>\n",
       "      <th>max</th>\n",
       "      <td>2021.000000</td>\n",
       "      <td>100.000000</td>\n",
       "      <td>25.160000</td>\n",
       "      <td>3263.000000</td>\n",
       "    </tr>\n",
       "  </tbody>\n",
       "</table>\n",
       "</div>"
      ],
      "text/plain": [
       "        Year Built       Length        Width  Number of views last 7 days\n",
       "count  9888.000000  9879.000000  9832.000000                  9888.000000\n",
       "mean   1893.192860    11.570017     3.520124                   149.160801\n",
       "std     460.201582     6.002820     1.220534                   151.819752\n",
       "min       0.000000     1.040000     0.010000                    13.000000\n",
       "25%    1996.000000     7.470000     2.540000                    70.000000\n",
       "50%    2007.000000    10.280000     3.330000                   108.000000\n",
       "75%    2017.000000    13.930000     4.250000                   172.000000\n",
       "max    2021.000000   100.000000    25.160000                  3263.000000"
      ]
     },
     "execution_count": 9,
     "metadata": {},
     "output_type": "execute_result"
    }
   ],
   "source": [
    "# descriptive analysis\n",
    "data.describe()"
   ]
  },
  {
   "cell_type": "markdown",
   "id": "79b4bbec",
   "metadata": {},
   "source": [
    "### find null values"
   ]
  },
  {
   "cell_type": "code",
   "execution_count": 12,
   "id": "0a24a9db",
   "metadata": {},
   "outputs": [
    {
     "data": {
      "text/plain": [
       "Price                             0\n",
       "Boat Type                         0\n",
       "Manufacturer                   1338\n",
       "Type                              6\n",
       "Year Built                        0\n",
       "Length                            9\n",
       "Width                            56\n",
       "Material                       1749\n",
       "Location                         36\n",
       "Number of views last 7 days       0\n",
       "dtype: int64"
      ]
     },
     "execution_count": 12,
     "metadata": {},
     "output_type": "execute_result"
    }
   ],
   "source": [
    "data.isnull().sum()"
   ]
  },
  {
   "cell_type": "markdown",
   "id": "aa00120f",
   "metadata": {},
   "source": [
    "### plot length distribution"
   ]
  },
  {
   "cell_type": "code",
   "execution_count": 13,
   "id": "27ca5b6f",
   "metadata": {},
   "outputs": [
    {
     "data": {
      "text/plain": [
       "<seaborn.axisgrid.FacetGrid at 0x1a5b8b7be50>"
      ]
     },
     "execution_count": 13,
     "metadata": {},
     "output_type": "execute_result"
    },
    {
     "data": {
      "image/png": "[encoded data removed]",
      "text/plain": [
       "<Figure size 360x360 with 1 Axes>"
      ]
     },
     "metadata": {
      "needs_background": "light"
     },
     "output_type": "display_data"
    }
   ],
   "source": [
    "sns.displot(data['Length'])"
   ]
  },
  {
   "cell_type": "markdown",
   "id": "e44ca501",
   "metadata": {},
   "source": [
    "### plot width distribution"
   ]
  },
  {
   "cell_type": "code",
   "execution_count": 14,
   "id": "aa49133c",
   "metadata": {},
   "outputs": [
    {
     "data": {
      "text/plain": [
       "<seaborn.axisgrid.FacetGrid at 0x1a5b38eda30>"
      ]
     },
     "execution_count": 14,
     "metadata": {},
     "output_type": "execute_result"
    },
    {
     "data": {
      "image/png": "[encoded data removed]",
      "text/plain": [
       "<Figure size 360x360 with 1 Axes>"
      ]
     },
     "metadata": {
      "needs_background": "light"
     },
     "output_type": "display_data"
    }
   ],
   "source": [
    "sns.displot(data['Width'])"
   ]
  },
  {
   "cell_type": "code",
   "execution_count": 15,
   "id": "f65e9567",
   "metadata": {},
   "outputs": [],
   "source": [
    "# filling null width and length with there mean\n",
    "length_mean = np.round(data['Length'].mean(), 2)\n",
    "width_mean  = np.round(data['Width'].mean(), 2)\n",
    "\n",
    "data['Length'].fillna(length_mean, inplace=True)\n",
    "data['Width'].fillna(width_mean, inplace=True)"
   ]
  },
  {
   "cell_type": "markdown",
   "id": "f729a91c",
   "metadata": {},
   "source": [
    "### Check for null values"
   ]
  },
  {
   "cell_type": "code",
   "execution_count": 20,
   "id": "aec2f6f2",
   "metadata": {},
   "outputs": [],
   "source": [
    "# replacing all the remaining null values with unknown\n",
    "data.fillna('Unknown', inplace=True)"
   ]
  },
  {
   "cell_type": "code",
   "execution_count": 21,
   "id": "47f73044",
   "metadata": {},
   "outputs": [
    {
     "data": {
      "text/plain": [
       "Price                          False\n",
       "Boat Type                      False\n",
       "Manufacturer                   False\n",
       "Type                           False\n",
       "Year Built                     False\n",
       "Length                         False\n",
       "Width                          False\n",
       "Material                       False\n",
       "Location                       False\n",
       "Number of views last 7 days    False\n",
       "dtype: bool"
      ]
     },
     "execution_count": 21,
     "metadata": {},
     "output_type": "execute_result"
    }
   ],
   "source": [
    "data.isna().any()"
   ]
  },
  {
   "cell_type": "code",
   "execution_count": 22,
   "id": "e38bdc3e",
   "metadata": {},
   "outputs": [
    {
     "data": {
      "text/html": [
       "<div>\n",
       "<style scoped>\n",
       "    .dataframe tbody tr th:only-of-type {\n",
       "        vertical-align: middle;\n",
       "    }\n",
       "\n",
       "    .dataframe tbody tr th {\n",
       "        vertical-align: top;\n",
       "    }\n",
       "\n",
       "    .dataframe thead th {\n",
       "        text-align: right;\n",
       "    }\n",
       "</style>\n",
       "<table border=\"1\" class=\"dataframe\">\n",
       "  <thead>\n",
       "    <tr style=\"text-align: right;\">\n",
       "      <th></th>\n",
       "      <th>Price</th>\n",
       "      <th>Boat Type</th>\n",
       "      <th>Manufacturer</th>\n",
       "      <th>Type</th>\n",
       "      <th>Year Built</th>\n",
       "      <th>Length</th>\n",
       "      <th>Width</th>\n",
       "      <th>Material</th>\n",
       "      <th>Location</th>\n",
       "      <th>Number of views last 7 days</th>\n",
       "    </tr>\n",
       "  </thead>\n",
       "  <tbody>\n",
       "    <tr>\n",
       "      <th>0</th>\n",
       "      <td>CHF 3337</td>\n",
       "      <td>Motor Yacht</td>\n",
       "      <td>Rigiflex power boats</td>\n",
       "      <td>new boat from stock</td>\n",
       "      <td>2017</td>\n",
       "      <td>4.00</td>\n",
       "      <td>1.90</td>\n",
       "      <td>Unknown</td>\n",
       "      <td>Switzerland Â» Lake Geneva Â» VÃ©senaz</td>\n",
       "      <td>226</td>\n",
       "    </tr>\n",
       "    <tr>\n",
       "      <th>1</th>\n",
       "      <td>EUR 3490</td>\n",
       "      <td>Center console boat</td>\n",
       "      <td>Terhi power boats</td>\n",
       "      <td>new boat from stock</td>\n",
       "      <td>2020</td>\n",
       "      <td>4.00</td>\n",
       "      <td>1.50</td>\n",
       "      <td>Thermoplastic</td>\n",
       "      <td>Germany Â» BÃ¶nningstedt</td>\n",
       "      <td>75</td>\n",
       "    </tr>\n",
       "    <tr>\n",
       "      <th>2</th>\n",
       "      <td>CHF 3770</td>\n",
       "      <td>Sport Boat</td>\n",
       "      <td>Marine power boats</td>\n",
       "      <td>new boat from stock</td>\n",
       "      <td>0</td>\n",
       "      <td>3.69</td>\n",
       "      <td>1.42</td>\n",
       "      <td>Aluminium</td>\n",
       "      <td>Switzerland Â» Lake of Zurich Â» StÃ¤fa ZH</td>\n",
       "      <td>124</td>\n",
       "    </tr>\n",
       "    <tr>\n",
       "      <th>3</th>\n",
       "      <td>DKK 25900</td>\n",
       "      <td>Sport Boat</td>\n",
       "      <td>Pioner power boats</td>\n",
       "      <td>new boat from stock</td>\n",
       "      <td>2020</td>\n",
       "      <td>3.00</td>\n",
       "      <td>1.00</td>\n",
       "      <td>Unknown</td>\n",
       "      <td>Denmark Â» Svendborg</td>\n",
       "      <td>64</td>\n",
       "    </tr>\n",
       "    <tr>\n",
       "      <th>4</th>\n",
       "      <td>EUR 3399</td>\n",
       "      <td>Fishing Boat</td>\n",
       "      <td>Linder power boats</td>\n",
       "      <td>new boat from stock</td>\n",
       "      <td>2019</td>\n",
       "      <td>3.55</td>\n",
       "      <td>1.46</td>\n",
       "      <td>Aluminium</td>\n",
       "      <td>Germany Â» Bayern Â» MÃ¼nchen</td>\n",
       "      <td>58</td>\n",
       "    </tr>\n",
       "  </tbody>\n",
       "</table>\n",
       "</div>"
      ],
      "text/plain": [
       "       Price            Boat Type          Manufacturer                 Type  \\\n",
       "0   CHF 3337          Motor Yacht  Rigiflex power boats  new boat from stock   \n",
       "1   EUR 3490  Center console boat     Terhi power boats  new boat from stock   \n",
       "2   CHF 3770           Sport Boat    Marine power boats  new boat from stock   \n",
       "3  DKK 25900           Sport Boat    Pioner power boats  new boat from stock   \n",
       "4   EUR 3399         Fishing Boat    Linder power boats  new boat from stock   \n",
       "\n",
       "   Year Built  Length  Width       Material  \\\n",
       "0        2017    4.00   1.90        Unknown   \n",
       "1        2020    4.00   1.50  Thermoplastic   \n",
       "2           0    3.69   1.42      Aluminium   \n",
       "3        2020    3.00   1.00        Unknown   \n",
       "4        2019    3.55   1.46      Aluminium   \n",
       "\n",
       "                                     Location  Number of views last 7 days  \n",
       "0      Switzerland Â» Lake Geneva Â» VÃ©senaz                          226  \n",
       "1                    Germany Â» BÃ¶nningstedt                           75  \n",
       "2  Switzerland Â» Lake of Zurich Â» StÃ¤fa ZH                          124  \n",
       "3                        Denmark Â» Svendborg                           64  \n",
       "4               Germany Â» Bayern Â» MÃ¼nchen                           58  "
      ]
     },
     "execution_count": 22,
     "metadata": {},
     "output_type": "execute_result"
    }
   ],
   "source": [
    "data.head()"
   ]
  },
  {
   "cell_type": "code",
   "execution_count": 24,
   "id": "a6d12593",
   "metadata": {},
   "outputs": [],
   "source": [
    "data['Year Built'].replace(0, 2020, inplace=True)"
   ]
  },
  {
   "cell_type": "code",
   "execution_count": 26,
   "id": "71814a5b",
   "metadata": {},
   "outputs": [
    {
     "data": {
      "text/html": [
       "<div>\n",
       "<style scoped>\n",
       "    .dataframe tbody tr th:only-of-type {\n",
       "        vertical-align: middle;\n",
       "    }\n",
       "\n",
       "    .dataframe tbody tr th {\n",
       "        vertical-align: top;\n",
       "    }\n",
       "\n",
       "    .dataframe thead th {\n",
       "        text-align: right;\n",
       "    }\n",
       "</style>\n",
       "<table border=\"1\" class=\"dataframe\">\n",
       "  <thead>\n",
       "    <tr style=\"text-align: right;\">\n",
       "      <th></th>\n",
       "      <th>Price</th>\n",
       "      <th>Boat Type</th>\n",
       "      <th>Manufacturer</th>\n",
       "      <th>Type</th>\n",
       "      <th>Year Built</th>\n",
       "      <th>Length</th>\n",
       "      <th>Width</th>\n",
       "      <th>Material</th>\n",
       "      <th>Location</th>\n",
       "      <th>Number of views last 7 days</th>\n",
       "    </tr>\n",
       "  </thead>\n",
       "  <tbody>\n",
       "    <tr>\n",
       "      <th>0</th>\n",
       "      <td>CHF 3337</td>\n",
       "      <td>Motor Yacht</td>\n",
       "      <td>Rigiflex power boats</td>\n",
       "      <td>new boat from stock</td>\n",
       "      <td>2017</td>\n",
       "      <td>4.00</td>\n",
       "      <td>1.90</td>\n",
       "      <td>Unknown</td>\n",
       "      <td>Switzerland Â» Lake Geneva Â» VÃ©senaz</td>\n",
       "      <td>226</td>\n",
       "    </tr>\n",
       "    <tr>\n",
       "      <th>1</th>\n",
       "      <td>EUR 3490</td>\n",
       "      <td>Center console boat</td>\n",
       "      <td>Terhi power boats</td>\n",
       "      <td>new boat from stock</td>\n",
       "      <td>2020</td>\n",
       "      <td>4.00</td>\n",
       "      <td>1.50</td>\n",
       "      <td>Thermoplastic</td>\n",
       "      <td>Germany Â» BÃ¶nningstedt</td>\n",
       "      <td>75</td>\n",
       "    </tr>\n",
       "    <tr>\n",
       "      <th>2</th>\n",
       "      <td>CHF 3770</td>\n",
       "      <td>Sport Boat</td>\n",
       "      <td>Marine power boats</td>\n",
       "      <td>new boat from stock</td>\n",
       "      <td>2020</td>\n",
       "      <td>3.69</td>\n",
       "      <td>1.42</td>\n",
       "      <td>Aluminium</td>\n",
       "      <td>Switzerland Â» Lake of Zurich Â» StÃ¤fa ZH</td>\n",
       "      <td>124</td>\n",
       "    </tr>\n",
       "    <tr>\n",
       "      <th>3</th>\n",
       "      <td>DKK 25900</td>\n",
       "      <td>Sport Boat</td>\n",
       "      <td>Pioner power boats</td>\n",
       "      <td>new boat from stock</td>\n",
       "      <td>2020</td>\n",
       "      <td>3.00</td>\n",
       "      <td>1.00</td>\n",
       "      <td>Unknown</td>\n",
       "      <td>Denmark Â» Svendborg</td>\n",
       "      <td>64</td>\n",
       "    </tr>\n",
       "    <tr>\n",
       "      <th>4</th>\n",
       "      <td>EUR 3399</td>\n",
       "      <td>Fishing Boat</td>\n",
       "      <td>Linder power boats</td>\n",
       "      <td>new boat from stock</td>\n",
       "      <td>2019</td>\n",
       "      <td>3.55</td>\n",
       "      <td>1.46</td>\n",
       "      <td>Aluminium</td>\n",
       "      <td>Germany Â» Bayern Â» MÃ¼nchen</td>\n",
       "      <td>58</td>\n",
       "    </tr>\n",
       "  </tbody>\n",
       "</table>\n",
       "</div>"
      ],
      "text/plain": [
       "       Price            Boat Type          Manufacturer                 Type  \\\n",
       "0   CHF 3337          Motor Yacht  Rigiflex power boats  new boat from stock   \n",
       "1   EUR 3490  Center console boat     Terhi power boats  new boat from stock   \n",
       "2   CHF 3770           Sport Boat    Marine power boats  new boat from stock   \n",
       "3  DKK 25900           Sport Boat    Pioner power boats  new boat from stock   \n",
       "4   EUR 3399         Fishing Boat    Linder power boats  new boat from stock   \n",
       "\n",
       "   Year Built  Length  Width       Material  \\\n",
       "0        2017    4.00   1.90        Unknown   \n",
       "1        2020    4.00   1.50  Thermoplastic   \n",
       "2        2020    3.69   1.42      Aluminium   \n",
       "3        2020    3.00   1.00        Unknown   \n",
       "4        2019    3.55   1.46      Aluminium   \n",
       "\n",
       "                                     Location  Number of views last 7 days  \n",
       "0      Switzerland Â» Lake Geneva Â» VÃ©senaz                          226  \n",
       "1                    Germany Â» BÃ¶nningstedt                           75  \n",
       "2  Switzerland Â» Lake of Zurich Â» StÃ¤fa ZH                          124  \n",
       "3                        Denmark Â» Svendborg                           64  \n",
       "4               Germany Â» Bayern Â» MÃ¼nchen                           58  "
      ]
     },
     "execution_count": 26,
     "metadata": {},
     "output_type": "execute_result"
    }
   ],
   "source": [
    "# check if the instruction above was effective\n",
    "data.head()"
   ]
  },
  {
   "cell_type": "markdown",
   "id": "518fba45",
   "metadata": {},
   "source": [
    "#### plotting the relationship between price and number of views last 7 days"
   ]
  },
  {
   "cell_type": "code",
   "execution_count": 28,
   "id": "ee90d01d",
   "metadata": {},
   "outputs": [
    {
     "data": {
      "text/plain": [
       "<seaborn.axisgrid.FacetGrid at 0x1a5bb363e20>"
      ]
     },
     "execution_count": 28,
     "metadata": {},
     "output_type": "execute_result"
    },
    {
     "data": {
      "image/png": "[encoded data removed]",
      "text/plain": [
       "<Figure size 360x360 with 1 Axes>"
      ]
     },
     "metadata": {
      "needs_background": "light"
     },
     "output_type": "display_data"
    }
   ],
   "source": [
    "sns.relplot(data=data, x='Price', y='Number of views last 7 days')"
   ]
  },
  {
   "cell_type": "markdown",
   "id": "feab8f7c",
   "metadata": {},
   "source": [
    "### Most Viewed"
   ]
  },
  {
   "cell_type": "code",
   "execution_count": 29,
   "id": "58552f49",
   "metadata": {},
   "outputs": [],
   "source": [
    "most_viewed = data.loc[ data['Number of views last 7 days'] > 499 ]"
   ]
  },
  {
   "cell_type": "code",
   "execution_count": 30,
   "id": "fc1041c0",
   "metadata": {},
   "outputs": [
    {
     "data": {
      "text/plain": [
       "<seaborn.axisgrid.PairGrid at 0x1a5b9a58220>"
      ]
     },
     "execution_count": 30,
     "metadata": {},
     "output_type": "execute_result"
    },
    {
     "data": {
      "image/png": "[encoded data removed]",
      "text/plain": [
       "<Figure size 720x180 with 5 Axes>"
      ]
     },
     "metadata": {
      "needs_background": "light"
     },
     "output_type": "display_data"
    }
   ],
   "source": [
    "sns.pairplot(most_viewed, y_vars=['Number of views last 7 days'])"
   ]
  },
  {
   "cell_type": "code",
   "execution_count": 73,
   "id": "14a2490a",
   "metadata": {},
   "outputs": [],
   "source": [
    "most_viewed = data[data['Number of views last 7 days'] > 700].sort_values('Number of views last 7 days', ascending=False)"
   ]
  },
  {
   "cell_type": "code",
   "execution_count": 74,
   "id": "cea99059",
   "metadata": {},
   "outputs": [
    {
     "data": {
      "text/html": [
       "<div>\n",
       "<style scoped>\n",
       "    .dataframe tbody tr th:only-of-type {\n",
       "        vertical-align: middle;\n",
       "    }\n",
       "\n",
       "    .dataframe tbody tr th {\n",
       "        vertical-align: top;\n",
       "    }\n",
       "\n",
       "    .dataframe thead th {\n",
       "        text-align: right;\n",
       "    }\n",
       "</style>\n",
       "<table border=\"1\" class=\"dataframe\">\n",
       "  <thead>\n",
       "    <tr style=\"text-align: right;\">\n",
       "      <th></th>\n",
       "      <th>Price</th>\n",
       "      <th>Boat Type</th>\n",
       "      <th>Manufacturer</th>\n",
       "      <th>Type</th>\n",
       "      <th>Year Built</th>\n",
       "      <th>Length</th>\n",
       "      <th>Width</th>\n",
       "      <th>Material</th>\n",
       "      <th>Location</th>\n",
       "      <th>Number of views last 7 days</th>\n",
       "      <th>price_in_USD</th>\n",
       "    </tr>\n",
       "  </thead>\n",
       "  <tbody>\n",
       "    <tr>\n",
       "      <th>9580</th>\n",
       "      <td>16125.54</td>\n",
       "      <td>Motor Yacht</td>\n",
       "      <td>Bayliner power boats</td>\n",
       "      <td>Used boat,Unleaded</td>\n",
       "      <td>1992</td>\n",
       "      <td>7.70</td>\n",
       "      <td>2.46</td>\n",
       "      <td>Plastic</td>\n",
       "      <td>Switzerland Â» Le Landeron (NE)</td>\n",
       "      <td>3263</td>\n",
       "      <td>16125.54</td>\n",
       "    </tr>\n",
       "    <tr>\n",
       "      <th>8723</th>\n",
       "      <td>37878.79</td>\n",
       "      <td>Hardtop</td>\n",
       "      <td>Princess power boats</td>\n",
       "      <td>Used boat,Diesel</td>\n",
       "      <td>1979</td>\n",
       "      <td>11.12</td>\n",
       "      <td>3.88</td>\n",
       "      <td>GRP</td>\n",
       "      <td>Switzerland Â» Neuenburgersee Â» Hauterive</td>\n",
       "      <td>2432</td>\n",
       "      <td>37878.79</td>\n",
       "    </tr>\n",
       "    <tr>\n",
       "      <th>6211</th>\n",
       "      <td>136255.41</td>\n",
       "      <td>Bowrider,Motor Yacht,Sport Boat</td>\n",
       "      <td>Windy power boats</td>\n",
       "      <td>Used boat,Diesel</td>\n",
       "      <td>2002</td>\n",
       "      <td>12.35</td>\n",
       "      <td>3.48</td>\n",
       "      <td>GRP</td>\n",
       "      <td>Switzerland Â» Lago Maggiore Â» 6600 Locarno</td>\n",
       "      <td>2261</td>\n",
       "      <td>136255.41</td>\n",
       "    </tr>\n",
       "    <tr>\n",
       "      <th>3700</th>\n",
       "      <td>1071106.09</td>\n",
       "      <td>Hardtop</td>\n",
       "      <td>Pershing power boats</td>\n",
       "      <td>Used boat,Diesel</td>\n",
       "      <td>2009</td>\n",
       "      <td>20.30</td>\n",
       "      <td>5.20</td>\n",
       "      <td>GRP</td>\n",
       "      <td>Neustadt in Holstein (Ostsee)</td>\n",
       "      <td>2154</td>\n",
       "      <td>1071106.09</td>\n",
       "    </tr>\n",
       "    <tr>\n",
       "      <th>308</th>\n",
       "      <td>21536.80</td>\n",
       "      <td>Sport Boat</td>\n",
       "      <td>Sea Ray power boats</td>\n",
       "      <td>Used boat,Unleaded</td>\n",
       "      <td>1993</td>\n",
       "      <td>6.14</td>\n",
       "      <td>2.34</td>\n",
       "      <td>Plastic</td>\n",
       "      <td>Switzerland Â» Murtensee Â» Avenches</td>\n",
       "      <td>2026</td>\n",
       "      <td>21536.80</td>\n",
       "    </tr>\n",
       "    <tr>\n",
       "      <th>...</th>\n",
       "      <td>...</td>\n",
       "      <td>...</td>\n",
       "      <td>...</td>\n",
       "      <td>...</td>\n",
       "      <td>...</td>\n",
       "      <td>...</td>\n",
       "      <td>...</td>\n",
       "      <td>...</td>\n",
       "      <td>...</td>\n",
       "      <td>...</td>\n",
       "      <td>...</td>\n",
       "    </tr>\n",
       "    <tr>\n",
       "      <th>9409</th>\n",
       "      <td>20562.77</td>\n",
       "      <td>Bowrider</td>\n",
       "      <td>Larson power boats</td>\n",
       "      <td>Used boat,Unleaded</td>\n",
       "      <td>1998</td>\n",
       "      <td>6.07</td>\n",
       "      <td>2.47</td>\n",
       "      <td>GRP</td>\n",
       "      <td>Switzerland Â» Lake Geneva Â» Port de Founex</td>\n",
       "      <td>709</td>\n",
       "      <td>20562.77</td>\n",
       "    </tr>\n",
       "    <tr>\n",
       "      <th>9569</th>\n",
       "      <td>16233.77</td>\n",
       "      <td>Cabin Boat</td>\n",
       "      <td>Unknown</td>\n",
       "      <td>Used boat,Diesel</td>\n",
       "      <td>1985</td>\n",
       "      <td>6.90</td>\n",
       "      <td>2.55</td>\n",
       "      <td>GRP</td>\n",
       "      <td>Switzerland Â» Lake Constance Â» Landschlacht</td>\n",
       "      <td>708</td>\n",
       "      <td>16233.77</td>\n",
       "    </tr>\n",
       "    <tr>\n",
       "      <th>7838</th>\n",
       "      <td>61147.19</td>\n",
       "      <td>Cabin Boat</td>\n",
       "      <td>Rinker power boats</td>\n",
       "      <td>Used boat,Unleaded</td>\n",
       "      <td>2008</td>\n",
       "      <td>7.47</td>\n",
       "      <td>2.59</td>\n",
       "      <td>GRP</td>\n",
       "      <td>Switzerland Â» Lake Geneva Â» Morges</td>\n",
       "      <td>708</td>\n",
       "      <td>61147.19</td>\n",
       "    </tr>\n",
       "    <tr>\n",
       "      <th>8736</th>\n",
       "      <td>37878.79</td>\n",
       "      <td>Motor Yacht</td>\n",
       "      <td>Sunseeker power boats</td>\n",
       "      <td>Used boat</td>\n",
       "      <td>1990</td>\n",
       "      <td>9.42</td>\n",
       "      <td>3.30</td>\n",
       "      <td>GRP</td>\n",
       "      <td>Switzerland Â» Ermatingen</td>\n",
       "      <td>706</td>\n",
       "      <td>37878.79</td>\n",
       "    </tr>\n",
       "    <tr>\n",
       "      <th>867</th>\n",
       "      <td>48532.73</td>\n",
       "      <td>Motor Yacht</td>\n",
       "      <td>Bayliner power boats</td>\n",
       "      <td>Used boat,Diesel</td>\n",
       "      <td>1999</td>\n",
       "      <td>10.20</td>\n",
       "      <td>3.41</td>\n",
       "      <td>GRP</td>\n",
       "      <td>Croatia (Hrvatska) Â» Porec</td>\n",
       "      <td>704</td>\n",
       "      <td>48532.73</td>\n",
       "    </tr>\n",
       "  </tbody>\n",
       "</table>\n",
       "<p>119 rows × 11 columns</p>\n",
       "</div>"
      ],
      "text/plain": [
       "           Price                        Boat Type           Manufacturer  \\\n",
       "9580    16125.54                      Motor Yacht   Bayliner power boats   \n",
       "8723    37878.79                          Hardtop   Princess power boats   \n",
       "6211   136255.41  Bowrider,Motor Yacht,Sport Boat      Windy power boats   \n",
       "3700  1071106.09                          Hardtop   Pershing power boats   \n",
       "308     21536.80                       Sport Boat    Sea Ray power boats   \n",
       "...          ...                              ...                    ...   \n",
       "9409    20562.77                         Bowrider     Larson power boats   \n",
       "9569    16233.77                       Cabin Boat                Unknown   \n",
       "7838    61147.19                       Cabin Boat     Rinker power boats   \n",
       "8736    37878.79                      Motor Yacht  Sunseeker power boats   \n",
       "867     48532.73                      Motor Yacht   Bayliner power boats   \n",
       "\n",
       "                    Type  Year Built  Length  Width Material  \\\n",
       "9580  Used boat,Unleaded        1992    7.70   2.46  Plastic   \n",
       "8723    Used boat,Diesel        1979   11.12   3.88      GRP   \n",
       "6211    Used boat,Diesel        2002   12.35   3.48      GRP   \n",
       "3700    Used boat,Diesel        2009   20.30   5.20      GRP   \n",
       "308   Used boat,Unleaded        1993    6.14   2.34  Plastic   \n",
       "...                  ...         ...     ...    ...      ...   \n",
       "9409  Used boat,Unleaded        1998    6.07   2.47      GRP   \n",
       "9569    Used boat,Diesel        1985    6.90   2.55      GRP   \n",
       "7838  Used boat,Unleaded        2008    7.47   2.59      GRP   \n",
       "8736           Used boat        1990    9.42   3.30      GRP   \n",
       "867     Used boat,Diesel        1999   10.20   3.41      GRP   \n",
       "\n",
       "                                           Location  \\\n",
       "9580                Switzerland Â» Le Landeron (NE)   \n",
       "8723     Switzerland Â» Neuenburgersee Â» Hauterive   \n",
       "6211  Switzerland Â» Lago Maggiore Â» 6600 Locarno    \n",
       "3700                  Neustadt in Holstein (Ostsee)   \n",
       "308            Switzerland Â» Murtensee Â» Avenches   \n",
       "...                                             ...   \n",
       "9409   Switzerland Â» Lake Geneva Â» Port de Founex   \n",
       "9569  Switzerland Â» Lake Constance Â» Landschlacht   \n",
       "7838           Switzerland Â» Lake Geneva Â» Morges   \n",
       "8736                      Switzerland Â» Ermatingen   \n",
       "867                     Croatia (Hrvatska) Â» Porec   \n",
       "\n",
       "      Number of views last 7 days  price_in_USD  \n",
       "9580                         3263      16125.54  \n",
       "8723                         2432      37878.79  \n",
       "6211                         2261     136255.41  \n",
       "3700                         2154    1071106.09  \n",
       "308                          2026      21536.80  \n",
       "...                           ...           ...  \n",
       "9409                          709      20562.77  \n",
       "9569                          708      16233.77  \n",
       "7838                          708      61147.19  \n",
       "8736                          706      37878.79  \n",
       "867                           704      48532.73  \n",
       "\n",
       "[119 rows x 11 columns]"
      ]
     },
     "execution_count": 74,
     "metadata": {},
     "output_type": "execute_result"
    }
   ],
   "source": [
    "most_viewed"
   ]
  },
  {
   "cell_type": "code",
   "execution_count": 62,
   "id": "22b5416f",
   "metadata": {},
   "outputs": [
    {
     "data": {
      "text/plain": [
       "Used boat,Unleaded              168\n",
       "Used boat,Diesel                 72\n",
       "Used boat                        14\n",
       "new boat from stock,Unleaded      7\n",
       "new boat from stock               3\n",
       "new boat on order                 3\n",
       "Display Model,Unleaded            3\n",
       "new boat from stock,Diesel        3\n",
       "new boat on order,Diesel          2\n",
       "new boat on order,Unleaded        1\n",
       "Display Model,Diesel              1\n",
       "Display Model                     1\n",
       "Name: Type, dtype: int64"
      ]
     },
     "execution_count": 62,
     "metadata": {},
     "output_type": "execute_result"
    }
   ],
   "source": [
    "most_viewed['Type'].value_counts()"
   ]
  },
  {
   "cell_type": "code",
   "execution_count": 64,
   "id": "cbd1792c",
   "metadata": {},
   "outputs": [
    {
     "data": {
      "text/plain": [
       "Unknown                                     15\n",
       "Sea Ray power boats                         15\n",
       "Windy power boats                           11\n",
       "Sunseeker power boats                       10\n",
       "Bayliner power boats                        10\n",
       "                                            ..\n",
       "Terhi power boats                            1\n",
       "Rodriguez Group (Italyachts) power boats     1\n",
       "Majesty Yachts power boats                   1\n",
       "Azimut power boats                           1\n",
       "Lambro power boats                           1\n",
       "Name: Manufacturer, Length: 119, dtype: int64"
      ]
     },
     "execution_count": 64,
     "metadata": {},
     "output_type": "execute_result"
    }
   ],
   "source": [
    "most_viewed['Manufacturer'].value_counts()"
   ]
  },
  {
   "cell_type": "code",
   "execution_count": 70,
   "id": "b9f8c20f",
   "metadata": {},
   "outputs": [
    {
     "data": {
      "text/plain": [
       "Sport Boat                                  61\n",
       "Motor Yacht                                 40\n",
       "Cabin Boat                                  38\n",
       "Wakeboard/Wakesurf                          15\n",
       "Bowrider                                     8\n",
       "Classic,Runabout                             8\n",
       "Classic                                      7\n",
       "Flybridge                                    7\n",
       "Hardtop                                      7\n",
       "Fishing Boat                                 6\n",
       "Mega Yacht                                   5\n",
       "Runabout                                     5\n",
       "Cabin Boat,Motor Yacht,Sport Boat            4\n",
       "Offshore Boat                                4\n",
       "Pilothouse                                   4\n",
       "House Boat                                   4\n",
       "Motor Yacht,Sport Boat                       4\n",
       "Deck Boat                                    3\n",
       "Sport Boat,Wakeboard/Wakesurf,Water ski      3\n",
       "Classic,Sport Boat                           3\n",
       "Cabin Boat,Motor Yacht                       3\n",
       "Cabin Boat,Trawler                           3\n",
       "Trawler                                      3\n",
       "Classic,Motor Yacht                          2\n",
       "Center console boat                          2\n",
       "Cabin Boat,Sport Boat                        2\n",
       "Cabin Boat,Classic,Motor Yacht               2\n",
       "Classic,Sport Boat,Water ski                 2\n",
       "Hardtop,Motor Yacht                          2\n",
       "Water ski                                    2\n",
       "Sport Boat,Wakeboard/Wakesurf                2\n",
       "Bowrider,Motor Yacht,Wakeboard/Wakesurf      1\n",
       "Bowrider,Wakeboard/Wakesurf                  1\n",
       "Bowrider,Deck Boat,Water ski                 1\n",
       "Motor Yacht,Trawler                          1\n",
       "Cabin Boat,Fishing Boat                      1\n",
       "Cabin Boat,Pilothouse,Sport Boat             1\n",
       "Motor Yacht,Sport Boat,Trawler               1\n",
       "Cabin Boat,House Boat,Trawler                1\n",
       "Cabin Boat,Sport Boat,Wakeboard/Wakesurf     1\n",
       "Classic,House Boat,Motor Yacht               1\n",
       "Cabin Boat,Hardtop,Trawler                   1\n",
       "Cabin Boat,Classic                           1\n",
       "Cabin Boat,House Boat                        1\n",
       "Motor Yacht,Wakeboard/Wakesurf               1\n",
       "Bowrider,Motor Yacht,Sport Boat              1\n",
       "Deck Boat,Pilothouse,Sport Boat              1\n",
       "Cabin Boat,Fishing Boat,Sport Boat           1\n",
       "Name: Boat Type, dtype: int64"
      ]
     },
     "execution_count": 70,
     "metadata": {},
     "output_type": "execute_result"
    }
   ],
   "source": [
    "most_viewed['Boat Type'].value_counts()"
   ]
  },
  {
   "cell_type": "markdown",
   "id": "cc84b022",
   "metadata": {},
   "source": [
    "### characteristics of the most viewed boat listings in the last 7 days"
   ]
  },
  {
   "cell_type": "code",
   "execution_count": 71,
   "id": "018ab57c",
   "metadata": {},
   "outputs": [
    {
     "data": {
      "text/html": [
       "<div>\n",
       "<style scoped>\n",
       "    .dataframe tbody tr th:only-of-type {\n",
       "        vertical-align: middle;\n",
       "    }\n",
       "\n",
       "    .dataframe tbody tr th {\n",
       "        vertical-align: top;\n",
       "    }\n",
       "\n",
       "    .dataframe thead th {\n",
       "        text-align: right;\n",
       "    }\n",
       "</style>\n",
       "<table border=\"1\" class=\"dataframe\">\n",
       "  <thead>\n",
       "    <tr style=\"text-align: right;\">\n",
       "      <th></th>\n",
       "      <th>Price</th>\n",
       "      <th>Boat Type</th>\n",
       "      <th>Manufacturer</th>\n",
       "      <th>Type</th>\n",
       "      <th>Year Built</th>\n",
       "      <th>Length</th>\n",
       "      <th>Width</th>\n",
       "      <th>Material</th>\n",
       "      <th>Location</th>\n",
       "      <th>Number of views last 7 days</th>\n",
       "      <th>price_in_USD</th>\n",
       "    </tr>\n",
       "  </thead>\n",
       "  <tbody>\n",
       "    <tr>\n",
       "      <th>9580</th>\n",
       "      <td>16125.54</td>\n",
       "      <td>Motor Yacht</td>\n",
       "      <td>Bayliner power boats</td>\n",
       "      <td>Used boat,Unleaded</td>\n",
       "      <td>1992</td>\n",
       "      <td>7.7</td>\n",
       "      <td>2.46</td>\n",
       "      <td>Plastic</td>\n",
       "      <td>Switzerland Â» Le Landeron (NE)</td>\n",
       "      <td>3263</td>\n",
       "      <td>16125.54</td>\n",
       "    </tr>\n",
       "  </tbody>\n",
       "</table>\n",
       "</div>"
      ],
      "text/plain": [
       "         Price    Boat Type          Manufacturer                Type  \\\n",
       "9580  16125.54  Motor Yacht  Bayliner power boats  Used boat,Unleaded   \n",
       "\n",
       "      Year Built  Length  Width Material                         Location  \\\n",
       "9580        1992     7.7   2.46  Plastic  Switzerland Â» Le Landeron (NE)   \n",
       "\n",
       "      Number of views last 7 days  price_in_USD  \n",
       "9580                         3263      16125.54  "
      ]
     },
     "execution_count": 71,
     "metadata": {},
     "output_type": "execute_result"
    }
   ],
   "source": [
    "data.loc[ data['Number of views last 7 days'] == data['Number of views last 7 days'].nlargest(1).item() ]"
   ]
  },
  {
   "cell_type": "markdown",
   "id": "eaa922ae",
   "metadata": {},
   "source": [
    "is it the most expensive boats that get the most views?\n",
    "* The above are the top 10 most viewd boats. If we look at the price column we can see that its price is not the highest, meaning that it doesn't have to be expensive to get more views. Like lets take the 3rd boat from the table it's price is 125900 which is more that the 1st boat in the table.\n",
    "\n",
    "most viewed type : with respect to its number of occurrence\n",
    "* Used boat,Unleaded               168\n",
    "* Used boat,Diesel                 72\n",
    "* Used boat                        14\n",
    "* new boat from stock,Unleaded     7\n",
    "\n",
    "most viewed Boat Type : with respect to its number of occurrence\n",
    "* Sport Boat                                  61\n",
    "* Motor Yacht                                 40\n",
    "* Cabin Boat                                  38\n",
    "* Wakeboard/Wakesurf                          15"
   ]
  },
  {
   "cell_type": "code",
   "execution_count": null,
   "id": "89b59766",
   "metadata": {},
   "outputs": [],
   "source": []
  },
  {
   "cell_type": "code",
   "execution_count": null,
   "id": "aee93b05",
   "metadata": {},
   "outputs": [],
   "source": []
  },
  {
   "cell_type": "code",
   "execution_count": null,
   "id": "7911281f",
   "metadata": {},
   "outputs": [],
   "source": []
  },
  {
   "cell_type": "code",
   "execution_count": null,
   "id": "50253207",
   "metadata": {},
   "outputs": [],
   "source": []
  }
 ],
 "metadata": {
  "kernelspec": {
   "display_name": "Python 3 (ipykernel)",
   "language": "python",
   "name": "python3"
  },
  "language_info": {
   "codemirror_mode": {
    "name": "ipython",
    "version": 3
   },
   "file_extension": ".py",
   "mimetype": "text/x-python",
   "name": "python",
   "nbconvert_exporter": "python",
   "pygments_lexer": "ipython3",
   "version": "3.9.12"
  }
 },
 "nbformat": 4,
 "nbformat_minor": 5
}
